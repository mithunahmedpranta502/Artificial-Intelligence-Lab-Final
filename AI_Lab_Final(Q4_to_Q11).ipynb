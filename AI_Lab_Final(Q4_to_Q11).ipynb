{
  "nbformat": 4,
  "nbformat_minor": 0,
  "metadata": {
    "colab": {
      "name": "AI Lab Final(Q4 to Q11).ipynb",
      "provenance": [],
      "authorship_tag": "ABX9TyO/pBpRAHb//hXeGn6pgj/B",
      "include_colab_link": true
    },
    "kernelspec": {
      "name": "python3",
      "display_name": "Python 3"
    }
  },
  "cells": [
    {
      "cell_type": "markdown",
      "metadata": {
        "id": "view-in-github",
        "colab_type": "text"
      },
      "source": [
        "<a href=\"https://colab.research.google.com/github/mithunahmedpranta502/Artificial-Intelligence-Lab-Final/blob/main/AI_Lab_Final(Q4_to_Q11).ipynb\" target=\"_parent\"><img src=\"https://colab.research.google.com/assets/colab-badge.svg\" alt=\"Open In Colab\"/></a>"
      ]
    },
    {
      "cell_type": "markdown",
      "metadata": {
        "id": "eRZ60JYzr9m6"
      },
      "source": [
        "#**Find a string**"
      ]
    },
    {
      "cell_type": "code",
      "metadata": {
        "colab": {
          "base_uri": "https://localhost:8080/"
        },
        "id": "gcnvMK7zn2wV",
        "outputId": "d9acd1a1-fe5d-4228-a5b5-d0420ae414c6"
      },
      "source": [
        "def count_substring(string, sub_string):\r\n",
        "    c=0\r\n",
        "    for i in range(len(string)):\r\n",
        "        if string[i:].startswith(sub_string):\r\n",
        "            c =c+1\r\n",
        "    return c\r\n",
        "\r\n",
        "if __name__ == '__main__':\r\n",
        "    string = input().strip()\r\n",
        "    sub_string = input().strip()\r\n",
        "    \r\n",
        "    count = count_substring(string, sub_string)\r\n",
        "    print(count)"
      ],
      "execution_count": null,
      "outputs": [
        {
          "output_type": "stream",
          "text": [
            "ABCDCDC\n",
            "CDC\n",
            "2\n"
          ],
          "name": "stdout"
        }
      ]
    },
    {
      "cell_type": "markdown",
      "metadata": {
        "id": "3TG8RrYWr8IY"
      },
      "source": [
        "#**Python: Division**"
      ]
    },
    {
      "cell_type": "code",
      "metadata": {
        "colab": {
          "base_uri": "https://localhost:8080/"
        },
        "id": "Tt5IXW3MtCsQ",
        "outputId": "5ae6187c-a713-464f-ed11-9f0147445b47"
      },
      "source": [
        "    a = int(input())\r\n",
        "    b = int(input())\r\n",
        "    print(a//b)\r\n",
        "    print(a/b)"
      ],
      "execution_count": null,
      "outputs": [
        {
          "output_type": "stream",
          "text": [
            "4\n",
            "3\n",
            "1\n",
            "1.3333333333333333\n"
          ],
          "name": "stdout"
        }
      ]
    },
    {
      "cell_type": "markdown",
      "metadata": {
        "id": "yKnkMtC6tgIR"
      },
      "source": [
        "#**Python If-Else**"
      ]
    },
    {
      "cell_type": "code",
      "metadata": {
        "colab": {
          "base_uri": "https://localhost:8080/"
        },
        "id": "8TXkA1MGtg-A",
        "outputId": "f87cbf4f-92c4-4323-e22d-cd9bab240076"
      },
      "source": [
        "import math\r\n",
        "import os\r\n",
        "import random\r\n",
        "import re\r\n",
        "import sys\r\n",
        "\r\n",
        "n = int(input())\r\n",
        "if n%2!=0:\r\n",
        "    print(\"Weird\")\r\n",
        "elif 2<=n<=5:\r\n",
        "    print(\"Not Weird\")\r\n",
        "elif 6<=n<=20:\r\n",
        "    print(\"Weird\")\r\n",
        "elif n>20:\r\n",
        "    print(\"Not Weird\")"
      ],
      "execution_count": null,
      "outputs": [
        {
          "output_type": "stream",
          "text": [
            "24\n",
            "Not Weird\n"
          ],
          "name": "stdout"
        }
      ]
    },
    {
      "cell_type": "markdown",
      "metadata": {
        "id": "xm7Bo2uuuJsO"
      },
      "source": [
        "#**Arithmetic Operators**"
      ]
    },
    {
      "cell_type": "code",
      "metadata": {
        "colab": {
          "base_uri": "https://localhost:8080/"
        },
        "id": "B8n6p_qouKcb",
        "outputId": "bed79e0d-efcf-4d44-9509-c611e7c31884"
      },
      "source": [
        "a = int(input())\r\n",
        "b = int(input())\r\n",
        "print(a+b)\r\n",
        "print(a-b)\r\n",
        "print(a*b)"
      ],
      "execution_count": null,
      "outputs": [
        {
          "output_type": "stream",
          "text": [
            "3\n",
            "2\n",
            "5\n",
            "1\n",
            "6\n"
          ],
          "name": "stdout"
        }
      ]
    },
    {
      "cell_type": "markdown",
      "metadata": {
        "id": "fJteQZNpu0K5"
      },
      "source": [
        "#**Nested Lists**"
      ]
    },
    {
      "cell_type": "code",
      "metadata": {
        "colab": {
          "base_uri": "https://localhost:8080/"
        },
        "id": "dN_Y66bGu7Jf",
        "outputId": "5f0d9288-99e0-4853-a618-c2e4182980a1"
      },
      "source": [
        "if __name__ == '__main__':\r\n",
        "    student = []\r\n",
        "    for _ in range(int(input())):\r\n",
        "        name = input()\r\n",
        "        score = float(input())\r\n",
        "        student.append([score,name])\r\n",
        "    \r\n",
        "    student.sort()\r\n",
        "    grade = student[0][0]\r\n",
        "  \r\n",
        "    for i in range(1,len(student)):\r\n",
        "        if grade < student[i][0]:\r\n",
        "            grade = student[i][0]\r\n",
        "            break\r\n",
        "    \r\n",
        "    for i in range(1,len(student)):\r\n",
        "        if student[i][0] == grade:\r\n",
        "            print(student[i][1])\r\n",
        "\r\n",
        "\r\n"
      ],
      "execution_count": null,
      "outputs": [
        {
          "output_type": "stream",
          "text": [
            "5\n",
            "Harry\n",
            "37.21\n",
            "Berry\n",
            "37.21\n",
            "Tina\n",
            "37.2\n",
            "Akriti\n",
            "41\n",
            "Harsh\n",
            "39\n",
            "Berry\n",
            "Harry\n"
          ],
          "name": "stdout"
        }
      ]
    },
    {
      "cell_type": "markdown",
      "metadata": {
        "id": "VH0KdS1EyIrf"
      },
      "source": [
        "#**Write a function**"
      ]
    },
    {
      "cell_type": "code",
      "metadata": {
        "colab": {
          "base_uri": "https://localhost:8080/"
        },
        "id": "wcWOKhuYy9sk",
        "outputId": "f0bc46a7-9cb7-406e-8306-95c428a62483"
      },
      "source": [
        "def is_leap(year):\r\n",
        "    if year % 400 == 0:\r\n",
        "        return True\r\n",
        "    if year % 100 == 0:\r\n",
        "        return False\r\n",
        "    if year % 4 == 0:\r\n",
        "        return True\r\n",
        "    return False\r\n",
        "year = int(input())\r\n",
        "print(is_leap(year))"
      ],
      "execution_count": null,
      "outputs": [
        {
          "output_type": "stream",
          "text": [
            "1990\n",
            "False\n"
          ],
          "name": "stdout"
        }
      ]
    },
    {
      "cell_type": "markdown",
      "metadata": {
        "id": "8mNRHaeazajO"
      },
      "source": [
        "#**Basic Statistics Warmup**"
      ]
    },
    {
      "cell_type": "code",
      "metadata": {
        "id": "B58g2SmmzhIY"
      },
      "source": [
        "import numpy as np\r\n",
        "import math as m\r\n",
        "import statistics as stpy\r\n",
        "from scipy import stats\r\n",
        "\r\n",
        "def mean_confidence_interval(length, mean, stdev):\r\n",
        "    return 1.96 * (stdev / m.sqrt(length))\r\n",
        "\r\n",
        "total = int(input())\r\n",
        "numbers = list(map(int, input().split()))\r\n",
        "\r\n",
        "mean = np.mean(numbers)\r\n",
        "median = np.median(numbers)\r\n",
        "mode = int(stats.mode(numbers)[0])\r\n",
        "stdev = stpy.pstdev(numbers)\r\n",
        "confidence_interval = mean_confidence_interval(total, mean, stdev)\r\n",
        "min_confidence = round(mean - confidence_interval, 1)\r\n",
        "max_confidence = round(mean + confidence_interval, 1)\r\n",
        "\r\n",
        "print(round(mean,1))\r\n",
        "print(round(median,1))\r\n",
        "print(mode)\r\n",
        "print(round(stdev,1))\r\n",
        "print(\"{} {}\".format(min_confidence, max_confidence))"
      ],
      "execution_count": null,
      "outputs": []
    },
    {
      "cell_type": "markdown",
      "metadata": {
        "id": "ADrTVtJx0oM7"
      },
      "source": [
        "#**Loops**"
      ]
    },
    {
      "cell_type": "code",
      "metadata": {
        "colab": {
          "base_uri": "https://localhost:8080/"
        },
        "id": "XGcl_BnN2r-F",
        "outputId": "53806976-98e9-4a5c-9742-65ab836ad1f3"
      },
      "source": [
        "n=int(input())\r\n",
        "for i in range(0,n):\r\n",
        "    print(i*i) "
      ],
      "execution_count": null,
      "outputs": [
        {
          "output_type": "stream",
          "text": [
            "5\n",
            "0\n",
            "1\n",
            "4\n",
            "9\n",
            "16\n"
          ],
          "name": "stdout"
        }
      ]
    }
  ]
}